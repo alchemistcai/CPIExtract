{
 "cells": [
  {
   "cell_type": "markdown",
   "metadata": {},
   "source": [
    "# Databases download"
   ]
  },
  {
   "cell_type": "markdown",
   "metadata": {},
   "source": [
    "To download the databases, we provide code that will produce the terminal commands required to download most databases. \\\n",
    "After setting up the correct data paths, execute the code cells to obtain the bash code required to download and process the files.\n",
    "### Dislaimer\n",
    "- The ChEMBL database requires the generation of the `.csv` file from the [ChEMBL website](https://www.ebi.ac.uk/chembl/web_components/explore/activities/STATE_ID:GnsHH1n7OPU1JAjGvKLgvQ==). More information is provided in the respective section below.\n",
    "- The DrugBank database requires an academic license to download, please refer to the [DrugBank website](https://go.drugbank.com/releases/latest) for further instructions."
   ]
  },
  {
   "cell_type": "code",
   "execution_count": 20,
   "metadata": {},
   "outputs": [],
   "source": [
    "from IPython.display import Markdown as md\n",
    "from datetime import datetime\n",
    "import os\n",
    "import pandas as pd"
   ]
  },
  {
   "cell_type": "markdown",
   "metadata": {},
   "source": [
    "Data paths"
   ]
  },
  {
   "cell_type": "code",
   "execution_count": 21,
   "metadata": {},
   "outputs": [
    {
     "data": {
      "text/markdown": [
       "```bash\n",
       "   cd root/path/C-PIE\n",
       "   mkdir -p data\n",
       "   ```"
      ],
      "text/plain": [
       "<IPython.core.display.Markdown object>"
      ]
     },
     "execution_count": 21,
     "metadata": {},
     "output_type": "execute_result"
    }
   ],
   "source": [
    "# We recommend downloading the databases in the data/ folder\n",
    "data = \"data\" \n",
    "# replace root path with appropriate location (e.g., /home/username/)\n",
    "md(f\"\"\"```bash\n",
    "   cd root/path/C-PIE\n",
    "   mkdir -p {data}\n",
    "   ```\"\"\")"
   ]
  },
  {
   "cell_type": "markdown",
   "metadata": {},
   "source": [
    "## BindingDB"
   ]
  },
  {
   "cell_type": "markdown",
   "metadata": {},
   "source": [
    "BDB usually updates its database every month. The link includes the year and the month. \\\n",
    "If the link returns a 404 error, try manually updating the link with the previous month."
   ]
  },
  {
   "cell_type": "code",
   "execution_count": 22,
   "metadata": {},
   "outputs": [
    {
     "data": {
      "text/markdown": [
       "```bash\n",
       "   wget -P data/ https://www.bindingdb.org/bind/downloads/BindingDB_All_202405_tsv.zip -o BindingDB.tsv.zip\n",
       "   unzip data/BindingDB.tsv.zip && rm data/BindingDB.tsv.zip\n",
       "   ```"
      ],
      "text/plain": [
       "<IPython.core.display.Markdown object>"
      ]
     },
     "execution_count": 22,
     "metadata": {},
     "output_type": "execute_result"
    }
   ],
   "source": [
    "m = datetime.now().strftime('%m')\n",
    "y = datetime.now().strftime('%Y') \n",
    "md(f\"\"\"```bash\n",
    "   wget -P {data}/ https://www.bindingdb.org/bind/downloads/BindingDB_All_{y}{m}_tsv.zip -o BindingDB.tsv.zip\n",
    "   unzip {data}/BindingDB.tsv.zip && rm {data}/BindingDB.tsv.zip\n",
    "   ```\"\"\")"
   ]
  },
  {
   "cell_type": "markdown",
   "metadata": {},
   "source": [
    "## ChEMBL"
   ]
  },
  {
   "cell_type": "markdown",
   "metadata": {},
   "source": [
    "The ChEMBL database requires the generation of the `.csv` file from the [ChEMBL website](https://www.ebi.ac.uk/chembl/web_components/explore/activities/). In the page, select the *Homo sapiens* target organism in the filtering section on the right. Then, clicking on the csv download button will start the file generation. Once the generation is complete, press the download button. The images below show the step by step procedure to download the file."
   ]
  },
  {
   "cell_type": "markdown",
   "metadata": {},
   "source": [
    "![Filtering section button for Homo sapiens](images/ChEMBL-filtering.png)"
   ]
  },
  {
   "cell_type": "markdown",
   "metadata": {},
   "source": [
    "![CSV button to generate annotations file](images/ChEMBL-csv.png)"
   ]
  },
  {
   "cell_type": "markdown",
   "metadata": {},
   "source": [
    "![Button to download annotations file](images/ChEMBL-download.png)"
   ]
  },
  {
   "cell_type": "markdown",
   "metadata": {},
   "source": [
    "\n",
    "The downloaded `.zip` file will contain multiple csv files that will need to be merged"
   ]
  },
  {
   "cell_type": "markdown",
   "metadata": {},
   "source": [
    "Unzip file"
   ]
  },
  {
   "cell_type": "code",
   "execution_count": 17,
   "metadata": {},
   "outputs": [
    {
     "data": {
      "text/markdown": [
       "```bash\n",
       "   mkdir -p data/chembl\n",
       "   unzip data/ChEMBL.zip -d data/chembl \n",
       "   rm data/ChEMBL.zip\n",
       "   ```"
      ],
      "text/plain": [
       "<IPython.core.display.Markdown object>"
      ]
     },
     "execution_count": 17,
     "metadata": {},
     "output_type": "execute_result"
    }
   ],
   "source": [
    "md(f\"\"\"```bash\n",
    "   mkdir -p {data}/chembl\n",
    "   unzip {data}/ChEMBL.zip -d {data}/chembl \n",
    "   rm {data}/ChEMBL.zip\n",
    "   ```\"\"\")"
   ]
  },
  {
   "cell_type": "markdown",
   "metadata": {},
   "source": [
    "Merge files with the following code"
   ]
  },
  {
   "cell_type": "code",
   "execution_count": 18,
   "metadata": {},
   "outputs": [],
   "source": [
    "def merge_csv_files(folder_path, output_file):\n",
    "    \n",
    "    files = os.listdir(folder_path)\n",
    "    \n",
    "    csv_files = [file for file in files if file.endswith('.csv')]\n",
    "    \n",
    "    if len(csv_files) == 0:\n",
    "        print(\"No CSV files found in the folder.\")\n",
    "        return\n",
    "    \n",
    "    merged_df = pd.DataFrame()\n",
    "    \n",
    "    for file in csv_files:\n",
    "        file_path = os.path.join(folder_path, file)\n",
    "        df = pd.read_csv(file_path)\n",
    "        merged_df = pd.concat([merged_df, df], ignore_index=True)\n",
    "    \n",
    "    merged_df.to_csv(output_file, index=False)\n",
    "\n",
    "folder_path = f'{data}/chembl'\n",
    "output_file = f'{data}/ChEMBL.csv'\n",
    "merge_csv_files(folder_path, output_file)\n"
   ]
  },
  {
   "cell_type": "markdown",
   "metadata": {},
   "source": [
    "Remove downloaded data"
   ]
  },
  {
   "cell_type": "code",
   "execution_count": 27,
   "metadata": {},
   "outputs": [
    {
     "data": {
      "text/markdown": [
       "```bash\n",
       "   rm -r data/chembl/\n",
       "   ```"
      ],
      "text/plain": [
       "<IPython.core.display.Markdown object>"
      ]
     },
     "execution_count": 27,
     "metadata": {},
     "output_type": "execute_result"
    }
   ],
   "source": [
    "md(f\"\"\"```bash\n",
    "   rm -r {data}/chembl/\n",
    "   ```\"\"\")"
   ]
  },
  {
   "cell_type": "markdown",
   "metadata": {},
   "source": [
    "## CTD"
   ]
  },
  {
   "cell_type": "code",
   "execution_count": 12,
   "metadata": {},
   "outputs": [
    {
     "data": {
      "text/markdown": [
       "```bash\n",
       "   wget -P data/ https://ctdbase.org/reports/CTD_chem_gene_ixns.csv.gz -o CTD.csv.gz\n",
       "   gzip -d data/CTD.csv.gz\n",
       "   ```"
      ],
      "text/plain": [
       "<IPython.core.display.Markdown object>"
      ]
     },
     "execution_count": 12,
     "metadata": {},
     "output_type": "execute_result"
    }
   ],
   "source": [
    "md(f\"\"\"```bash\n",
    "   wget -P {data}/ https://ctdbase.org/reports/CTD_chem_gene_ixns.csv.gz -o CTD.csv.gz\n",
    "   gzip -d {data}/CTD.csv.gz\n",
    "   ```\"\"\")"
   ]
  },
  {
   "cell_type": "markdown",
   "metadata": {},
   "source": [
    "# Drugbank"
   ]
  },
  {
   "cell_type": "markdown",
   "metadata": {},
   "source": [
    "The DrugBank database requires an academic license to download, please refer to the [DrugBank website](https://go.drugbank.com/releases/latest) for further instructions.\n",
    "Once the academic license has been issued to the account, please download the complete database from the [Drugbank download page](https://go.drugbank.com/releases/latest), or use the commands below. \\\n",
    "Then, unzip the file to obtain the `.xml` file. \n",
    "This file can be converted to `.csv` using the code provided below. "
   ]
  },
  {
   "cell_type": "markdown",
   "metadata": {},
   "source": [
    "![DrugBank complete database download](images/Drugbank.png)"
   ]
  },
  {
   "cell_type": "markdown",
   "metadata": {},
   "source": [
    "Download the zip file"
   ]
  },
  {
   "cell_type": "code",
   "execution_count": 18,
   "metadata": {},
   "outputs": [
    {
     "data": {
      "text/markdown": [
       "```bash\n",
       "    wget -P data/ -user=YOURUSERNAME -password=YOURPASSWORD https://go.drugbank.com/releases/latest/downloads/all-full-database -o drugbank_all_full_database.xml.zip\n",
       "   ```"
      ],
      "text/plain": [
       "<IPython.core.display.Markdown object>"
      ]
     },
     "execution_count": 18,
     "metadata": {},
     "output_type": "execute_result"
    }
   ],
   "source": [
    "email = 'YOURUSERNAME'\n",
    "password = 'YOURPASSWORD'\n",
    "\n",
    "md(f\"\"\"```bash\n",
    "    wget -P {data}/ -user={email} -password={password} https://go.drugbank.com/releases/latest/downloads/all-full-database -o drugbank_all_full_database.xml.zip\n",
    "   ```\"\"\")"
   ]
  },
  {
   "cell_type": "markdown",
   "metadata": {},
   "source": [
    "Unzip the file"
   ]
  },
  {
   "cell_type": "code",
   "execution_count": 7,
   "metadata": {},
   "outputs": [
    {
     "data": {
      "text/markdown": [
       "```bash\n",
       "    unzip data/drugbank_all_full_database.xml.zip -d data\n",
       "    rm data/drugbank_all_full_database.xml.zip\n",
       "   ```"
      ],
      "text/plain": [
       "<IPython.core.display.Markdown object>"
      ]
     },
     "execution_count": 7,
     "metadata": {},
     "output_type": "execute_result"
    }
   ],
   "source": [
    "md(f\"\"\"```bash\n",
    "    unzip {data}/drugbank_all_full_database.xml.zip -d {data}\n",
    "    rm {data}/drugbank_all_full_database.xml.zip\n",
    "   ```\"\"\")"
   ]
  },
  {
   "cell_type": "code",
   "execution_count": null,
   "metadata": {},
   "outputs": [],
   "source": [
    "import pandas as pd\n",
    "import collections\n",
    "import xml.etree.ElementTree as ET\n",
    "\n",
    "def collapse_list_values(row):\n",
    "    for key, value in row.items():\n",
    "        if isinstance(value, list):\n",
    "            row[key] = '|'.join(value)\n",
    "    return row\n",
    "\n",
    "def xml2csv(file_path, output_file):\n",
    "    tree = ET.parse(file_path)\n",
    "    root = tree.getroot()\n",
    "\n",
    "    ns = '{http://www.drugbank.ca}'\n",
    "    inchikey_template = \"{ns}calculated-properties/{ns}property[{ns}kind='InChIKey']/{ns}value\"\n",
    "    inchi_template = \"{ns}calculated-properties/{ns}property[{ns}kind='InChI']/{ns}value\"\n",
    "\n",
    "    rows = list()\n",
    "    for i, drug in enumerate(root):\n",
    "        row = collections.OrderedDict()\n",
    "        assert drug.tag == ns + 'drug'\n",
    "        row['type'] = drug.get('type')\n",
    "        row['drugbank-id'] = drug.findtext(ns + \"drugbank-id[@primary='true']\")\n",
    "        row['name'] = drug.findtext(ns + \"name\")\n",
    "        row['description'] = drug.findtext(ns + \"description\")\n",
    "        row['InChIKey'] = drug.findtext(inchikey_template.format(ns = ns))\n",
    "        rows.append(row)\n",
    "\n",
    "    rows = list(map(collapse_list_values, rows))\n",
    "\n",
    "    columns = ['drugbank-id', 'name', 'type', 'InChIKey', 'description']\n",
    "    drugbank_df = pd.DataFrame.from_dict(rows)[columns]\n",
    "\n",
    "    protein_rows = list()\n",
    "    for i, drug in enumerate(root):\n",
    "        drugbank_id = drug.findtext(ns + \"drugbank-id[@primary='true']\")\n",
    "        for category in ['target', 'enzyme', 'carrier', 'transporter']:\n",
    "            proteins = drug.findall('{ns}{cat}s/{ns}{cat}'.format(ns=ns, cat=category))\n",
    "            for protein in proteins:\n",
    "                row = {'drugbank-id': drugbank_id, 'protein_type': category}\n",
    "                row['protein_name'] = protein.findtext('{}name'.format(ns))\n",
    "                row['organism'] = protein.findtext('{}organism'.format(ns))\n",
    "                actions = protein.findall('{ns}actions/{ns}action'.format(ns=ns))\n",
    "                row['actions'] = '|'.join(action.text for action in actions)\n",
    "                uniprot_ids = [polypep.text for polypep in protein.findall(\n",
    "                    \"{ns}polypeptide/{ns}external-identifiers/{ns}external-identifier[{ns}resource='UniProtKB']/{ns}identifier\".format(ns=ns))]            \n",
    "                if len(uniprot_ids) == 1:\n",
    "                    row['uniprot_id'] = uniprot_ids[0]\n",
    "                hgnc_ids = [polypep.text for polypep in protein.findall(\n",
    "                    \"{ns}polypeptide/{ns}external-identifiers/{ns}external-identifier[{ns}resource='HUGO Gene Nomenclature Committee (HGNC)']/{ns}identifier\".format(ns=ns))]            \n",
    "                if len(hgnc_ids) == 1:\n",
    "                    row['HGNC'] = hgnc_ids[0]\n",
    "                protein_rows.append(row)\n",
    "\n",
    "    protein_df = pd.DataFrame.from_dict(protein_rows)\n",
    "\n",
    "    drugbank = pd.merge(drugbank_df, protein_df, on='drugbank-id', how='left')\n",
    "\n",
    "    drugbank.to_csv(output_file, sep=',', index=False)\n",
    "\n",
    "file_path = f'{data}/full database.xml'\n",
    "output_file = f'{data}/DB.csv'\n",
    "xml2csv(file_path, output_file)\n"
   ]
  },
  {
   "cell_type": "markdown",
   "metadata": {},
   "source": [
    "Remove downloaded data"
   ]
  },
  {
   "cell_type": "code",
   "execution_count": 19,
   "metadata": {},
   "outputs": [
    {
     "data": {
      "text/markdown": [
       "```bash\n",
       "   rm -r data/full database.xml\n",
       "   ```"
      ],
      "text/plain": [
       "<IPython.core.display.Markdown object>"
      ]
     },
     "execution_count": 19,
     "metadata": {},
     "output_type": "execute_result"
    }
   ],
   "source": [
    "md(f\"\"\"```bash\n",
    "   rm -r {data}/full database.xml\n",
    "   ```\"\"\")"
   ]
  },
  {
   "cell_type": "markdown",
   "metadata": {},
   "source": [
    "## DrugCentral"
   ]
  },
  {
   "cell_type": "code",
   "execution_count": 15,
   "metadata": {},
   "outputs": [
    {
     "data": {
      "text/markdown": [
       "```bash\n",
       "   wget -P data/ https://unmtid-dbs.net/download/DrugCentral/2021_09_01/drug.target.interaction.tsv.gz -o DC.tsv.gz\n",
       "   gzip -d data/DC.tsv.gz\n",
       "   wget -P data/ https://unmtid-dbs.net/download/DrugCentral/2021_09_01/structures.smiles.tsv -o DC_comps.tsv \n",
       "   ```"
      ],
      "text/plain": [
       "<IPython.core.display.Markdown object>"
      ]
     },
     "execution_count": 15,
     "metadata": {},
     "output_type": "execute_result"
    }
   ],
   "source": [
    "md(f\"\"\"```bash\n",
    "   wget -P {data}/ https://unmtid-dbs.net/download/DrugCentral/2021_09_01/drug.target.interaction.tsv.gz -o DC.tsv.gz\n",
    "   gzip -d {data}/DC.tsv.gz\n",
    "   wget -P {data}/ https://unmtid-dbs.net/download/DrugCentral/2021_09_01/structures.smiles.tsv -o DC_comps.tsv \n",
    "   ```\"\"\")"
   ]
  },
  {
   "cell_type": "markdown",
   "metadata": {},
   "source": [
    "Merge the two files to add SMILES and InChI information for compounds"
   ]
  },
  {
   "cell_type": "code",
   "execution_count": 20,
   "metadata": {},
   "outputs": [],
   "source": [
    "DC = pd.read_csv(f'{data}/DC.tsv', sep='\\t')\n",
    "DC_comps = pd.read_csv(f'{data}/DC_comps.tsv', sep='\\t')\n",
    "\n",
    "DC_comps = DC_comps[['ID', 'SMILES', 'InChi', 'InChiKey']].rename(columns={'ID':'STRUCT_ID'})\n",
    "\n",
    "DC = pd.merge(DC, DC_comps, on='STRUCT_ID', how='left')\n",
    "\n",
    "DC.to_csv(f'{data}/DrugCentral.csv', index=False)"
   ]
  },
  {
   "cell_type": "markdown",
   "metadata": {},
   "source": [
    "Remove downloaded data"
   ]
  },
  {
   "cell_type": "code",
   "execution_count": 26,
   "metadata": {},
   "outputs": [
    {
     "data": {
      "text/markdown": [
       "```bash\n",
       "   rm data/DC.tsv && rm data/DC_comps.tsv \n",
       "   ```"
      ],
      "text/plain": [
       "<IPython.core.display.Markdown object>"
      ]
     },
     "execution_count": 26,
     "metadata": {},
     "output_type": "execute_result"
    }
   ],
   "source": [
    "md(f\"\"\"```bash\n",
    "   rm {data}/DC.tsv && rm {data}/DC_comps.tsv \n",
    "   ```\"\"\")"
   ]
  },
  {
   "cell_type": "markdown",
   "metadata": {},
   "source": [
    "## DTC"
   ]
  },
  {
   "cell_type": "code",
   "execution_count": 32,
   "metadata": {},
   "outputs": [
    {
     "data": {
      "text/markdown": [
       "```bash\n",
       "   wget -P data/ https://drugtargetcommons.fimm.fi/static/Excell_files/DTC_data.csv -o DTC.csv \n",
       "   ```"
      ],
      "text/plain": [
       "<IPython.core.display.Markdown object>"
      ]
     },
     "execution_count": 32,
     "metadata": {},
     "output_type": "execute_result"
    }
   ],
   "source": [
    "md(f\"\"\"```bash\n",
    "   wget -P {data}/ https://drugtargetcommons.fimm.fi/static/Excell_files/DTC_data.csv -o DTC.csv \n",
    "   ```\"\"\")"
   ]
  },
  {
   "cell_type": "markdown",
   "metadata": {},
   "source": [
    "## STITCH"
   ]
  },
  {
   "cell_type": "code",
   "execution_count": 34,
   "metadata": {},
   "outputs": [
    {
     "data": {
      "text/markdown": [
       "```bash\n",
       "   wget -P data/ http://stitch.embl.de/download/protein_chemical.links.detailed.v5.0/9606.protein_chemical.links.detailed.v5.0.tsv.gz -o STICH.tsv.gz\n",
       "   gzip -d data/STITCH.tsv.gz\n",
       "   ```"
      ],
      "text/plain": [
       "<IPython.core.display.Markdown object>"
      ]
     },
     "execution_count": 34,
     "metadata": {},
     "output_type": "execute_result"
    }
   ],
   "source": [
    "md(f\"\"\"```bash\n",
    "   wget -P {data}/ http://stitch.embl.de/download/protein_chemical.links.detailed.v5.0/9606.protein_chemical.links.detailed.v5.0.tsv.gz -o STICH.tsv.gz\n",
    "   gzip -d {data}/STITCH.tsv.gz\n",
    "   ```\"\"\")"
   ]
  }
 ],
 "metadata": {
  "kernelspec": {
   "display_name": "cpi",
   "language": "python",
   "name": "python3"
  },
  "language_info": {
   "codemirror_mode": {
    "name": "ipython",
    "version": 3
   },
   "file_extension": ".py",
   "mimetype": "text/x-python",
   "name": "python",
   "nbconvert_exporter": "python",
   "pygments_lexer": "ipython3",
   "version": "3.10.13"
  }
 },
 "nbformat": 4,
 "nbformat_minor": 2
}
